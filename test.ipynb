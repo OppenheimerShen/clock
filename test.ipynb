{
 "cells": [
  {
   "cell_type": "code",
   "execution_count": 1,
   "metadata": {},
   "outputs": [],
   "source": [
    "import time\n",
    "import tkinter as tk\n",
    "from tkinter import *"
   ]
  },
  {
   "cell_type": "code",
   "execution_count": 2,
   "metadata": {},
   "outputs": [],
   "source": [
    "class Clock:\n",
    "\n",
    "    def __init__(self):\n",
    "        self.root = tk.Tk()\n",
    "\n",
    "    def getTime(self):\n",
    "        timestr = time.strftime(\"%H:%M:%S\") # 获取当前的时间并转化为字符串\n",
    "        self.lb.configure(text = timestr)\n",
    "        self.root.after(1000,self.getTime())\n",
    "\n",
    "    def show(self):\n",
    "        self.root.title(\"Clock\")\n",
    "        self.root.geometry(\"200x100\")\n",
    "        self.lb = Label(self.root, text=\"\",fg = 'black', font = ('黑体', 40))\n",
    "        self.lb.pack()\n",
    "        self.getTime()\n",
    "        self.root.mainloop()\n",
    "        \n",
    "        "
   ]
  },
  {
   "cell_type": "code",
   "execution_count": 3,
   "metadata": {},
   "outputs": [
    {
     "ename": "RecursionError",
     "evalue": "maximum recursion depth exceeded in __instancecheck__",
     "output_type": "error",
     "traceback": [
      "\u001b[0;31m---------------------------------------------------------------------------\u001b[0m",
      "\u001b[0;31mRecursionError\u001b[0m                            Traceback (most recent call last)",
      "\u001b[1;32m/Users/andy/Desktop/clock/test.ipynb Cell 3'\u001b[0m in \u001b[0;36m<cell line: 1>\u001b[0;34m()\u001b[0m\n\u001b[1;32m      <a href='vscode-notebook-cell:/Users/andy/Desktop/clock/test.ipynb#ch0000002?line=0'>1</a>\u001b[0m \u001b[39mif\u001b[39;00m \u001b[39m__name__\u001b[39m \u001b[39m==\u001b[39m \u001b[39m\"\u001b[39m\u001b[39m__main__\u001b[39m\u001b[39m\"\u001b[39m:\n\u001b[0;32m----> <a href='vscode-notebook-cell:/Users/andy/Desktop/clock/test.ipynb#ch0000002?line=2'>3</a>\u001b[0m     Clock()\u001b[39m.\u001b[39;49mshow()\n",
      "\u001b[1;32m/Users/andy/Desktop/clock/test.ipynb Cell 2'\u001b[0m in \u001b[0;36mClock.show\u001b[0;34m(self)\u001b[0m\n\u001b[1;32m     <a href='vscode-notebook-cell:/Users/andy/Desktop/clock/test.ipynb#ch0000001?line=13'>14</a>\u001b[0m \u001b[39mself\u001b[39m\u001b[39m.\u001b[39mlb \u001b[39m=\u001b[39m Label(\u001b[39mself\u001b[39m\u001b[39m.\u001b[39mroot, text\u001b[39m=\u001b[39m\u001b[39m\"\u001b[39m\u001b[39m\"\u001b[39m,fg \u001b[39m=\u001b[39m \u001b[39m'\u001b[39m\u001b[39mblack\u001b[39m\u001b[39m'\u001b[39m, font \u001b[39m=\u001b[39m (\u001b[39m'\u001b[39m\u001b[39m黑体\u001b[39m\u001b[39m'\u001b[39m, \u001b[39m40\u001b[39m))\n\u001b[1;32m     <a href='vscode-notebook-cell:/Users/andy/Desktop/clock/test.ipynb#ch0000001?line=14'>15</a>\u001b[0m \u001b[39mself\u001b[39m\u001b[39m.\u001b[39mlb\u001b[39m.\u001b[39mpack()\n\u001b[0;32m---> <a href='vscode-notebook-cell:/Users/andy/Desktop/clock/test.ipynb#ch0000001?line=15'>16</a>\u001b[0m \u001b[39mself\u001b[39;49m\u001b[39m.\u001b[39;49mgetTime()\n\u001b[1;32m     <a href='vscode-notebook-cell:/Users/andy/Desktop/clock/test.ipynb#ch0000001?line=16'>17</a>\u001b[0m \u001b[39mself\u001b[39m\u001b[39m.\u001b[39mroot\u001b[39m.\u001b[39mmainloop()\n",
      "\u001b[1;32m/Users/andy/Desktop/clock/test.ipynb Cell 2'\u001b[0m in \u001b[0;36mClock.getTime\u001b[0;34m(self)\u001b[0m\n\u001b[1;32m      <a href='vscode-notebook-cell:/Users/andy/Desktop/clock/test.ipynb#ch0000001?line=6'>7</a>\u001b[0m timestr \u001b[39m=\u001b[39m time\u001b[39m.\u001b[39mstrftime(\u001b[39m\"\u001b[39m\u001b[39m%\u001b[39m\u001b[39mH:\u001b[39m\u001b[39m%\u001b[39m\u001b[39mM:\u001b[39m\u001b[39m%\u001b[39m\u001b[39mS\u001b[39m\u001b[39m\"\u001b[39m) \u001b[39m# 获取当前的时间并转化为字符串\u001b[39;00m\n\u001b[1;32m      <a href='vscode-notebook-cell:/Users/andy/Desktop/clock/test.ipynb#ch0000001?line=7'>8</a>\u001b[0m \u001b[39mself\u001b[39m\u001b[39m.\u001b[39mlb\u001b[39m.\u001b[39mconfigure(text \u001b[39m=\u001b[39m timestr)\n\u001b[0;32m----> <a href='vscode-notebook-cell:/Users/andy/Desktop/clock/test.ipynb#ch0000001?line=8'>9</a>\u001b[0m \u001b[39mself\u001b[39m\u001b[39m.\u001b[39mroot\u001b[39m.\u001b[39mafter(\u001b[39m1000\u001b[39m,\u001b[39mself\u001b[39;49m\u001b[39m.\u001b[39;49mgetTime())\n",
      "\u001b[1;32m/Users/andy/Desktop/clock/test.ipynb Cell 2'\u001b[0m in \u001b[0;36mClock.getTime\u001b[0;34m(self)\u001b[0m\n\u001b[1;32m      <a href='vscode-notebook-cell:/Users/andy/Desktop/clock/test.ipynb#ch0000001?line=6'>7</a>\u001b[0m timestr \u001b[39m=\u001b[39m time\u001b[39m.\u001b[39mstrftime(\u001b[39m\"\u001b[39m\u001b[39m%\u001b[39m\u001b[39mH:\u001b[39m\u001b[39m%\u001b[39m\u001b[39mM:\u001b[39m\u001b[39m%\u001b[39m\u001b[39mS\u001b[39m\u001b[39m\"\u001b[39m) \u001b[39m# 获取当前的时间并转化为字符串\u001b[39;00m\n\u001b[1;32m      <a href='vscode-notebook-cell:/Users/andy/Desktop/clock/test.ipynb#ch0000001?line=7'>8</a>\u001b[0m \u001b[39mself\u001b[39m\u001b[39m.\u001b[39mlb\u001b[39m.\u001b[39mconfigure(text \u001b[39m=\u001b[39m timestr)\n\u001b[0;32m----> <a href='vscode-notebook-cell:/Users/andy/Desktop/clock/test.ipynb#ch0000001?line=8'>9</a>\u001b[0m \u001b[39mself\u001b[39m\u001b[39m.\u001b[39mroot\u001b[39m.\u001b[39mafter(\u001b[39m1000\u001b[39m,\u001b[39mself\u001b[39;49m\u001b[39m.\u001b[39;49mgetTime())\n",
      "    \u001b[0;31m[... skipping similar frames: Clock.getTime at line 9 (2964 times)]\u001b[0m\n",
      "\u001b[1;32m/Users/andy/Desktop/clock/test.ipynb Cell 2'\u001b[0m in \u001b[0;36mClock.getTime\u001b[0;34m(self)\u001b[0m\n\u001b[1;32m      <a href='vscode-notebook-cell:/Users/andy/Desktop/clock/test.ipynb#ch0000001?line=6'>7</a>\u001b[0m timestr \u001b[39m=\u001b[39m time\u001b[39m.\u001b[39mstrftime(\u001b[39m\"\u001b[39m\u001b[39m%\u001b[39m\u001b[39mH:\u001b[39m\u001b[39m%\u001b[39m\u001b[39mM:\u001b[39m\u001b[39m%\u001b[39m\u001b[39mS\u001b[39m\u001b[39m\"\u001b[39m) \u001b[39m# 获取当前的时间并转化为字符串\u001b[39;00m\n\u001b[1;32m      <a href='vscode-notebook-cell:/Users/andy/Desktop/clock/test.ipynb#ch0000001?line=7'>8</a>\u001b[0m \u001b[39mself\u001b[39m\u001b[39m.\u001b[39mlb\u001b[39m.\u001b[39mconfigure(text \u001b[39m=\u001b[39m timestr)\n\u001b[0;32m----> <a href='vscode-notebook-cell:/Users/andy/Desktop/clock/test.ipynb#ch0000001?line=8'>9</a>\u001b[0m \u001b[39mself\u001b[39m\u001b[39m.\u001b[39mroot\u001b[39m.\u001b[39mafter(\u001b[39m1000\u001b[39m,\u001b[39mself\u001b[39;49m\u001b[39m.\u001b[39;49mgetTime())\n",
      "\u001b[1;32m/Users/andy/Desktop/clock/test.ipynb Cell 2'\u001b[0m in \u001b[0;36mClock.getTime\u001b[0;34m(self)\u001b[0m\n\u001b[1;32m      <a href='vscode-notebook-cell:/Users/andy/Desktop/clock/test.ipynb#ch0000001?line=5'>6</a>\u001b[0m \u001b[39mdef\u001b[39;00m \u001b[39mgetTime\u001b[39m(\u001b[39mself\u001b[39m):\n\u001b[1;32m      <a href='vscode-notebook-cell:/Users/andy/Desktop/clock/test.ipynb#ch0000001?line=6'>7</a>\u001b[0m     timestr \u001b[39m=\u001b[39m time\u001b[39m.\u001b[39mstrftime(\u001b[39m\"\u001b[39m\u001b[39m%\u001b[39m\u001b[39mH:\u001b[39m\u001b[39m%\u001b[39m\u001b[39mM:\u001b[39m\u001b[39m%\u001b[39m\u001b[39mS\u001b[39m\u001b[39m\"\u001b[39m) \u001b[39m# 获取当前的时间并转化为字符串\u001b[39;00m\n\u001b[0;32m----> <a href='vscode-notebook-cell:/Users/andy/Desktop/clock/test.ipynb#ch0000001?line=7'>8</a>\u001b[0m     \u001b[39mself\u001b[39;49m\u001b[39m.\u001b[39;49mlb\u001b[39m.\u001b[39;49mconfigure(text \u001b[39m=\u001b[39;49m timestr)\n\u001b[1;32m      <a href='vscode-notebook-cell:/Users/andy/Desktop/clock/test.ipynb#ch0000001?line=8'>9</a>\u001b[0m     \u001b[39mself\u001b[39m\u001b[39m.\u001b[39mroot\u001b[39m.\u001b[39mafter(\u001b[39m1000\u001b[39m,\u001b[39mself\u001b[39m\u001b[39m.\u001b[39mgetTime())\n",
      "File \u001b[0;32m/Library/Frameworks/Python.framework/Versions/3.10/lib/python3.10/tkinter/__init__.py:1675\u001b[0m, in \u001b[0;36mMisc.configure\u001b[0;34m(self, cnf, **kw)\u001b[0m\n\u001b[1;32m   <a href='file:///Library/Frameworks/Python.framework/Versions/3.10/lib/python3.10/tkinter/__init__.py?line=1667'>1668</a>\u001b[0m \u001b[39mdef\u001b[39;00m \u001b[39mconfigure\u001b[39m(\u001b[39mself\u001b[39m, cnf\u001b[39m=\u001b[39m\u001b[39mNone\u001b[39;00m, \u001b[39m*\u001b[39m\u001b[39m*\u001b[39mkw):\n\u001b[1;32m   <a href='file:///Library/Frameworks/Python.framework/Versions/3.10/lib/python3.10/tkinter/__init__.py?line=1668'>1669</a>\u001b[0m     \u001b[39m\"\"\"Configure resources of a widget.\u001b[39;00m\n\u001b[1;32m   <a href='file:///Library/Frameworks/Python.framework/Versions/3.10/lib/python3.10/tkinter/__init__.py?line=1669'>1670</a>\u001b[0m \n\u001b[1;32m   <a href='file:///Library/Frameworks/Python.framework/Versions/3.10/lib/python3.10/tkinter/__init__.py?line=1670'>1671</a>\u001b[0m \u001b[39m    The values for resources are specified as keyword\u001b[39;00m\n\u001b[1;32m   <a href='file:///Library/Frameworks/Python.framework/Versions/3.10/lib/python3.10/tkinter/__init__.py?line=1671'>1672</a>\u001b[0m \u001b[39m    arguments. To get an overview about\u001b[39;00m\n\u001b[1;32m   <a href='file:///Library/Frameworks/Python.framework/Versions/3.10/lib/python3.10/tkinter/__init__.py?line=1672'>1673</a>\u001b[0m \u001b[39m    the allowed keyword arguments call the method keys.\u001b[39;00m\n\u001b[1;32m   <a href='file:///Library/Frameworks/Python.framework/Versions/3.10/lib/python3.10/tkinter/__init__.py?line=1673'>1674</a>\u001b[0m \u001b[39m    \"\"\"\u001b[39;00m\n\u001b[0;32m-> <a href='file:///Library/Frameworks/Python.framework/Versions/3.10/lib/python3.10/tkinter/__init__.py?line=1674'>1675</a>\u001b[0m     \u001b[39mreturn\u001b[39;00m \u001b[39mself\u001b[39;49m\u001b[39m.\u001b[39;49m_configure(\u001b[39m'\u001b[39;49m\u001b[39mconfigure\u001b[39;49m\u001b[39m'\u001b[39;49m, cnf, kw)\n",
      "File \u001b[0;32m/Library/Frameworks/Python.framework/Versions/3.10/lib/python3.10/tkinter/__init__.py:1658\u001b[0m, in \u001b[0;36mMisc._configure\u001b[0;34m(self, cmd, cnf, kw)\u001b[0m\n\u001b[1;32m   <a href='file:///Library/Frameworks/Python.framework/Versions/3.10/lib/python3.10/tkinter/__init__.py?line=1655'>1656</a>\u001b[0m \u001b[39m\"\"\"Internal function.\"\"\"\u001b[39;00m\n\u001b[1;32m   <a href='file:///Library/Frameworks/Python.framework/Versions/3.10/lib/python3.10/tkinter/__init__.py?line=1656'>1657</a>\u001b[0m \u001b[39mif\u001b[39;00m kw:\n\u001b[0;32m-> <a href='file:///Library/Frameworks/Python.framework/Versions/3.10/lib/python3.10/tkinter/__init__.py?line=1657'>1658</a>\u001b[0m     cnf \u001b[39m=\u001b[39m _cnfmerge((cnf, kw))\n\u001b[1;32m   <a href='file:///Library/Frameworks/Python.framework/Versions/3.10/lib/python3.10/tkinter/__init__.py?line=1658'>1659</a>\u001b[0m \u001b[39melif\u001b[39;00m cnf:\n\u001b[1;32m   <a href='file:///Library/Frameworks/Python.framework/Versions/3.10/lib/python3.10/tkinter/__init__.py?line=1659'>1660</a>\u001b[0m     cnf \u001b[39m=\u001b[39m _cnfmerge(cnf)\n",
      "File \u001b[0;32m/Library/Frameworks/Python.framework/Versions/3.10/lib/python3.10/tkinter/__init__.py:105\u001b[0m, in \u001b[0;36m_cnfmerge\u001b[0;34m(cnfs)\u001b[0m\n\u001b[1;32m    <a href='file:///Library/Frameworks/Python.framework/Versions/3.10/lib/python3.10/tkinter/__init__.py?line=102'>103</a>\u001b[0m \u001b[39mif\u001b[39;00m \u001b[39misinstance\u001b[39m(cnfs, \u001b[39mdict\u001b[39m):\n\u001b[1;32m    <a href='file:///Library/Frameworks/Python.framework/Versions/3.10/lib/python3.10/tkinter/__init__.py?line=103'>104</a>\u001b[0m     \u001b[39mreturn\u001b[39;00m cnfs\n\u001b[0;32m--> <a href='file:///Library/Frameworks/Python.framework/Versions/3.10/lib/python3.10/tkinter/__init__.py?line=104'>105</a>\u001b[0m \u001b[39melif\u001b[39;00m \u001b[39misinstance\u001b[39;49m(cnfs, (\u001b[39mtype\u001b[39;49m(\u001b[39mNone\u001b[39;49;00m), \u001b[39mstr\u001b[39;49m)):\n\u001b[1;32m    <a href='file:///Library/Frameworks/Python.framework/Versions/3.10/lib/python3.10/tkinter/__init__.py?line=105'>106</a>\u001b[0m     \u001b[39mreturn\u001b[39;00m cnfs\n\u001b[1;32m    <a href='file:///Library/Frameworks/Python.framework/Versions/3.10/lib/python3.10/tkinter/__init__.py?line=106'>107</a>\u001b[0m \u001b[39melse\u001b[39;00m:\n",
      "\u001b[0;31mRecursionError\u001b[0m: maximum recursion depth exceeded in __instancecheck__"
     ]
    }
   ],
   "source": [
    "if __name__ == \"__main__\":\n",
    "\n",
    "    Clock().show()"
   ]
  }
 ],
 "metadata": {
  "kernelspec": {
   "display_name": "Python 3.10.4 64-bit",
   "language": "python",
   "name": "python3"
  },
  "language_info": {
   "codemirror_mode": {
    "name": "ipython",
    "version": 3
   },
   "file_extension": ".py",
   "mimetype": "text/x-python",
   "name": "python",
   "nbconvert_exporter": "python",
   "pygments_lexer": "ipython3",
   "version": "3.10.4"
  },
  "orig_nbformat": 4,
  "vscode": {
   "interpreter": {
    "hash": "aee8b7b246df8f9039afb4144a1f6fd8d2ca17a180786b69acc140d282b71a49"
   }
  }
 },
 "nbformat": 4,
 "nbformat_self.minor": 2
}
